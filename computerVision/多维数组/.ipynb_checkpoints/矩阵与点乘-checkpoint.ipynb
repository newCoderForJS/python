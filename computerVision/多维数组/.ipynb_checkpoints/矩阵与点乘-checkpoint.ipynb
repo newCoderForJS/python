{
 "cells": [
  {
   "cell_type": "code",
   "execution_count": 14,
   "id": "d4b6f5a4",
   "metadata": {},
   "outputs": [],
   "source": [
    "import numpy as np"
   ]
  },
  {
   "cell_type": "code",
   "execution_count": 17,
   "id": "19fd99f1",
   "metadata": {},
   "outputs": [
    {
     "name": "stdout",
     "output_type": "stream",
     "text": [
      "[[1 2]\n",
      " [3 4]]\n"
     ]
    }
   ],
   "source": [
    "A = np.array([[1,2],[3,4]])\n",
    "B =  np.array([[5,6],[7,8]])\n",
    "print(A)\n",
    "//矩阵"
   ]
  },
  {
   "cell_type": "code",
   "execution_count": 27,
   "id": "8fac2a63",
   "metadata": {},
   "outputs": [
    {
     "data": {
      "text/plain": [
       "(2, 2)"
      ]
     },
     "execution_count": 27,
     "metadata": {},
     "output_type": "execute_result"
    }
   ],
   "source": [
    "np.ndim(A)\n",
    "B.shape\n",
    "#矩阵的行列"
   ]
  },
  {
   "cell_type": "code",
   "execution_count": 28,
   "id": "bc7c2d14",
   "metadata": {},
   "outputs": [
    {
     "data": {
      "text/plain": [
       "array([[19, 22],\n",
       "       [43, 50]])"
      ]
     },
     "execution_count": 28,
     "metadata": {},
     "output_type": "execute_result"
    }
   ],
   "source": [
    "np.dot(A,B)\n",
    "#A,B的点积乘"
   ]
  },
  {
   "cell_type": "code",
   "execution_count": null,
   "id": "3d135827",
   "metadata": {},
   "outputs": [],
   "source": []
  }
 ],
 "metadata": {
  "kernelspec": {
   "display_name": "Python 3 (ipykernel)",
   "language": "python",
   "name": "python3"
  },
  "language_info": {
   "codemirror_mode": {
    "name": "ipython",
    "version": 3
   },
   "file_extension": ".py",
   "mimetype": "text/x-python",
   "name": "python",
   "nbconvert_exporter": "python",
   "pygments_lexer": "ipython3",
   "version": "3.9.13"
  }
 },
 "nbformat": 4,
 "nbformat_minor": 5
}
